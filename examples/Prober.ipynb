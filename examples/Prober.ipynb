{
 "cells": [
  {
   "cell_type": "markdown",
   "metadata": {},
   "source": [
    "# Prober example\n",
    "\n",
    "This example shows how to use `Prober` to couple already trained probes to a model."
   ]
  },
  {
   "cell_type": "code",
   "execution_count": 17,
   "metadata": {},
   "outputs": [],
   "source": [
    "import torch # PyTorch\n",
    "\n",
    "from pytorch_probing import Prober, ParallelModuleDict # Prober and dictionary of modules"
   ]
  },
  {
   "cell_type": "markdown",
   "metadata": {},
   "source": [
    "We start creating a example model, a simple MLP:"
   ]
  },
  {
   "cell_type": "code",
   "execution_count": 19,
   "metadata": {},
   "outputs": [],
   "source": [
    "class ExampleModel(torch.nn.Module):\n",
    "    def __init__(self, input_size, hidden_size, output_size):\n",
    "        super().__init__()\n",
    "\n",
    "        self.linear1 = torch.nn.Linear(input_size, hidden_size)\n",
    "        self.relu = torch.nn.ReLU()\n",
    "        self.linear2 = torch.nn.Linear(hidden_size, output_size)\n",
    "\n",
    "    def forward(self, x):\n",
    "        x = self.linear1(x)\n",
    "        x = self.relu(x)\n",
    "        x = self.linear2(x)\n",
    "\n",
    "        return x\n"
   ]
  },
  {
   "cell_type": "code",
   "execution_count": 20,
   "metadata": {},
   "outputs": [
    {
     "data": {
      "text/plain": [
       "ExampleModel(\n",
       "  (linear1): Linear(in_features=2, out_features=3, bias=True)\n",
       "  (relu): ReLU()\n",
       "  (linear2): Linear(in_features=3, out_features=1, bias=True)\n",
       ")"
      ]
     },
     "execution_count": 20,
     "metadata": {},
     "output_type": "execute_result"
    }
   ],
   "source": [
    "input_size = 2\n",
    "hidden_size = 3\n",
    "output_size = 1\n",
    "\n",
    "model = ExampleModel(input_size, hidden_size, output_size)\n",
    "model.eval()"
   ]
  },
  {
   "cell_type": "markdown",
   "metadata": {},
   "source": [
    "And a probe. Any torch module can be used as a probe. In this example we gonna use a simple Linear layer:"
   ]
  },
  {
   "cell_type": "code",
   "execution_count": 21,
   "metadata": {},
   "outputs": [
    {
     "data": {
      "text/plain": [
       "Linear(in_features=3, out_features=2, bias=True)"
      ]
     },
     "execution_count": 21,
     "metadata": {},
     "output_type": "execute_result"
    }
   ],
   "source": [
    "probe_size = 2\n",
    "\n",
    "probe = torch.nn.Linear(hidden_size, probe_size)\n",
    "probe.eval()"
   ]
  },
  {
   "cell_type": "markdown",
   "metadata": {},
   "source": [
    "And we created the Prober, passing it the model and a dictionary mapping the paths of the modules to the probes that must be coupled to its outputs. When a `None` value is passed, it creates a `Identity` module, that just pass its inputs to the outputs:"
   ]
  },
  {
   "cell_type": "code",
   "execution_count": 22,
   "metadata": {},
   "outputs": [],
   "source": [
    "probes = {\"linear1\":probe, \"relu\":None}\n",
    "\n",
    "probed_model = Prober(model, probes)"
   ]
  },
  {
   "cell_type": "markdown",
   "metadata": {},
   "source": [
    "We pass a sample value to the model:"
   ]
  },
  {
   "cell_type": "code",
   "execution_count": 23,
   "metadata": {},
   "outputs": [],
   "source": [
    "inputs = torch.randn([10, 2])\n",
    "\n",
    "with torch.no_grad():\n",
    "    outputs = probed_model(inputs)"
   ]
  },
  {
   "cell_type": "markdown",
   "metadata": {},
   "source": [
    "And the output is a tuple with the model output in the first value, and the probes outputs in the second:"
   ]
  },
  {
   "cell_type": "code",
   "execution_count": 24,
   "metadata": {},
   "outputs": [
    {
     "data": {
      "text/plain": [
       "tensor([[-0.8719],\n",
       "        [-0.5281],\n",
       "        [-0.6706],\n",
       "        [-0.6388],\n",
       "        [-0.6144],\n",
       "        [-0.6609],\n",
       "        [-0.7498],\n",
       "        [-0.6969],\n",
       "        [-0.8241],\n",
       "        [-0.5516]])"
      ]
     },
     "execution_count": 24,
     "metadata": {},
     "output_type": "execute_result"
    }
   ],
   "source": [
    "outputs[0]"
   ]
  },
  {
   "cell_type": "code",
   "execution_count": 25,
   "metadata": {},
   "outputs": [
    {
     "data": {
      "text/plain": [
       "{'linear1': tensor([[-0.5845,  0.6322],\n",
       "         [-0.1392,  0.1684],\n",
       "         [-0.4905,  0.4023],\n",
       "         [-0.3429,  0.4295],\n",
       "         [-0.4883,  0.3331],\n",
       "         [-0.3034,  0.4913],\n",
       "         [-0.3489,  0.6187],\n",
       "         [-0.3726,  0.5127],\n",
       "         [-0.3951,  0.7203],\n",
       "         [-0.1433,  0.3360]]),\n",
       " 'relu': tensor([[0.0000, 1.6433, 0.2960],\n",
       "         [0.1537, 0.0000, 0.0000],\n",
       "         [0.2034, 0.7000, 0.2462],\n",
       "         [0.0000, 0.5001, 0.0000],\n",
       "         [0.3455, 0.4674, 0.3000],\n",
       "         [0.0000, 0.6264, 0.0000],\n",
       "         [0.0000, 1.1360, 0.0000],\n",
       "         [0.0000, 0.8330, 0.0000],\n",
       "         [0.0000, 1.5619, 0.0000],\n",
       "         [0.0000, 0.0000, 0.0000]])}"
      ]
     },
     "execution_count": 25,
     "metadata": {},
     "output_type": "execute_result"
    }
   ],
   "source": [
    "outputs[1]"
   ]
  },
  {
   "cell_type": "markdown",
   "metadata": {},
   "source": [
    "## Multiple probes in the same place\n",
    "\n",
    "We can also use more than one probe in the same place. For showing it, we gonna create a second probe and reduce the probed model to the original model:"
   ]
  },
  {
   "cell_type": "code",
   "execution_count": 26,
   "metadata": {},
   "outputs": [
    {
     "data": {
      "text/plain": [
       "Linear(in_features=3, out_features=1, bias=True)"
      ]
     },
     "execution_count": 26,
     "metadata": {},
     "output_type": "execute_result"
    }
   ],
   "source": [
    "probe2_size = 1\n",
    "\n",
    "probe2 = torch.nn.Linear(hidden_size, probe2_size)\n",
    "probe2.eval()"
   ]
  },
  {
   "cell_type": "code",
   "execution_count": 27,
   "metadata": {},
   "outputs": [],
   "source": [
    "model = probed_model.reduce()"
   ]
  },
  {
   "cell_type": "markdown",
   "metadata": {},
   "source": [
    "We can than create a `ParallelModuleDict` with the two probes. We called with some input, the `ParallelModuleDict` pass the input to all its modules, and return a dictionary with each module output."
   ]
  },
  {
   "cell_type": "code",
   "execution_count": 28,
   "metadata": {},
   "outputs": [],
   "source": [
    "linear1_probes = ParallelModuleDict({\"probe1\":probe, \"probe2\":probe2})\n",
    "\n",
    "probes = {\"linear1\":linear1_probes}\n",
    "\n",
    "probed_model = Prober(model, probes)"
   ]
  },
  {
   "cell_type": "code",
   "execution_count": 29,
   "metadata": {},
   "outputs": [],
   "source": [
    "inputs = torch.randn([10, 2])\n",
    "\n",
    "with torch.no_grad():\n",
    "    outputs = probed_model(inputs)"
   ]
  },
  {
   "cell_type": "code",
   "execution_count": 30,
   "metadata": {},
   "outputs": [
    {
     "data": {
      "text/plain": [
       "{'linear1': {'probe1': tensor([[-0.1818,  0.1917],\n",
       "          [-0.4507,  0.5777],\n",
       "          [-0.2739,  0.4999],\n",
       "          [-0.3951,  0.2838],\n",
       "          [-0.4525,  0.2892],\n",
       "          [-0.3325,  0.3914],\n",
       "          [-0.0384,  0.5197],\n",
       "          [-0.3696,  0.6055],\n",
       "          [-0.5103,  0.5117],\n",
       "          [-0.2589,  0.6148]]),\n",
       "  'probe2': tensor([[ 0.5407],\n",
       "          [-0.1149],\n",
       "          [ 0.2945],\n",
       "          [ 0.0469],\n",
       "          [-0.0836],\n",
       "          [ 0.1753],\n",
       "          [ 0.8246],\n",
       "          [ 0.0651],\n",
       "          [-0.2414],\n",
       "          [ 0.3144]])}}"
      ]
     },
     "execution_count": 30,
     "metadata": {},
     "output_type": "execute_result"
    }
   ],
   "source": [
    "outputs[1]"
   ]
  }
 ],
 "metadata": {
  "kernelspec": {
   "display_name": "Python 3",
   "language": "python",
   "name": "python3"
  },
  "language_info": {
   "codemirror_mode": {
    "name": "ipython",
    "version": 3
   },
   "file_extension": ".py",
   "mimetype": "text/x-python",
   "name": "python",
   "nbconvert_exporter": "python",
   "pygments_lexer": "ipython3",
   "version": "3.11.9"
  }
 },
 "nbformat": 4,
 "nbformat_minor": 2
}
