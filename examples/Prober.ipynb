{
 "cells": [
  {
   "cell_type": "code",
   "execution_count": 11,
   "metadata": {},
   "outputs": [],
   "source": [
    "import torch\n",
    "\n",
    "from pytorch_probing import Prober, ParallelModuleDict"
   ]
  },
  {
   "cell_type": "code",
   "execution_count": 12,
   "metadata": {},
   "outputs": [],
   "source": [
    "class ExampleModel(torch.nn.Module):\n",
    "    def __init__(self, input_size, hidden_size, output_size):\n",
    "        super().__init__()\n",
    "\n",
    "        self.linear1 = torch.nn.Linear(input_size, hidden_size)\n",
    "        self.relu = torch.nn.ReLU()\n",
    "        self.linear2 = torch.nn.Linear(hidden_size, output_size)\n",
    "\n",
    "    def forward(self, x):\n",
    "        x = self.linear1(x)\n",
    "        x = self.relu(x)\n",
    "        x = self.linear2(x)\n",
    "\n",
    "        return x\n"
   ]
  },
  {
   "cell_type": "code",
   "execution_count": 13,
   "metadata": {},
   "outputs": [
    {
     "data": {
      "text/plain": [
       "ExampleModel(\n",
       "  (linear1): Linear(in_features=2, out_features=3, bias=True)\n",
       "  (relu): ReLU()\n",
       "  (linear2): Linear(in_features=3, out_features=1, bias=True)\n",
       ")"
      ]
     },
     "execution_count": 13,
     "metadata": {},
     "output_type": "execute_result"
    }
   ],
   "source": [
    "input_size = 2\n",
    "hidden_size = 3\n",
    "output_size = 1\n",
    "\n",
    "model = ExampleModel(input_size, hidden_size, output_size)\n",
    "model.eval()"
   ]
  },
  {
   "cell_type": "code",
   "execution_count": 14,
   "metadata": {},
   "outputs": [
    {
     "data": {
      "text/plain": [
       "Linear(in_features=3, out_features=2, bias=True)"
      ]
     },
     "execution_count": 14,
     "metadata": {},
     "output_type": "execute_result"
    }
   ],
   "source": [
    "probe_size = 2\n",
    "\n",
    "probe = torch.nn.Linear(hidden_size, probe_size)\n",
    "probe.eval()"
   ]
  },
  {
   "cell_type": "code",
   "execution_count": 15,
   "metadata": {},
   "outputs": [],
   "source": [
    "probes = {\"linear1\":probe, \"relu\":None}\n",
    "\n",
    "probed_model = Prober(model, probes)"
   ]
  },
  {
   "cell_type": "code",
   "execution_count": 16,
   "metadata": {},
   "outputs": [],
   "source": [
    "inputs = torch.randn([10, 2])\n",
    "\n",
    "with torch.no_grad():\n",
    "    outputs = probed_model(inputs)"
   ]
  },
  {
   "cell_type": "code",
   "execution_count": 17,
   "metadata": {},
   "outputs": [
    {
     "data": {
      "text/plain": [
       "{'linear1': tensor([[ 0.7286, -0.2807],\n",
       "         [ 0.7017, -0.2080],\n",
       "         [ 0.3983,  0.7984],\n",
       "         [ 0.6345, -0.2140],\n",
       "         [ 0.5134, -0.0495],\n",
       "         [ 0.8028, -0.5010],\n",
       "         [ 0.6500,  0.2377],\n",
       "         [ 0.7007,  0.2208],\n",
       "         [ 0.6548,  0.3234],\n",
       "         [ 0.8624, -0.7273]]),\n",
       " 'relu': tensor([[0.0652, 0.7930, 0.4492],\n",
       "         [0.0000, 0.7011, 0.3725],\n",
       "         [0.0000, 0.0000, 0.0000],\n",
       "         [0.0000, 0.5843, 0.5463],\n",
       "         [0.0000, 0.2685, 0.5175],\n",
       "         [0.2736, 1.0580, 0.6998],\n",
       "         [0.0000, 0.3413, 0.0000],\n",
       "         [0.0000, 0.4423, 0.0000],\n",
       "         [0.0000, 0.2985, 0.0000],\n",
       "         [0.4734, 1.3006, 0.9972]])}"
      ]
     },
     "execution_count": 17,
     "metadata": {},
     "output_type": "execute_result"
    }
   ],
   "source": [
    "outputs[1]"
   ]
  },
  {
   "cell_type": "code",
   "execution_count": 18,
   "metadata": {},
   "outputs": [
    {
     "data": {
      "text/plain": [
       "Linear(in_features=3, out_features=1, bias=True)"
      ]
     },
     "execution_count": 18,
     "metadata": {},
     "output_type": "execute_result"
    }
   ],
   "source": [
    "probe2_size = 1\n",
    "\n",
    "probe2 = torch.nn.Linear(hidden_size, probe2_size)\n",
    "probe2.eval()"
   ]
  },
  {
   "cell_type": "code",
   "execution_count": 19,
   "metadata": {},
   "outputs": [],
   "source": [
    "model = probed_model.reduce()"
   ]
  },
  {
   "cell_type": "code",
   "execution_count": 20,
   "metadata": {},
   "outputs": [],
   "source": [
    "linear1_probes = ParallelModuleDict({\"probe1\":probe, \"probe2\":probe2})\n",
    "\n",
    "probes = {\"linear1\":linear1_probes}\n",
    "\n",
    "probed_model = Prober(model, probes)"
   ]
  },
  {
   "cell_type": "code",
   "execution_count": 21,
   "metadata": {},
   "outputs": [],
   "source": [
    "inputs = torch.randn([10, 2])\n",
    "\n",
    "with torch.no_grad():\n",
    "    outputs = probed_model(inputs)"
   ]
  },
  {
   "cell_type": "code",
   "execution_count": 23,
   "metadata": {},
   "outputs": [
    {
     "data": {
      "text/plain": [
       "{'linear1': {'probe1': tensor([[ 1.2929, -0.9426],\n",
       "          [ 0.6545,  0.1600],\n",
       "          [ 0.7082, -0.1651],\n",
       "          [ 0.8528,  0.2046],\n",
       "          [ 0.8608, -0.5736],\n",
       "          [ 0.5992,  0.3035],\n",
       "          [ 0.7458, -0.8529],\n",
       "          [ 0.4288,  0.1822],\n",
       "          [ 0.3741,  0.5822],\n",
       "          [ 1.2560, -1.0933]]),\n",
       "  'probe2': tensor([[-0.1078],\n",
       "          [ 0.2343],\n",
       "          [ 0.2032],\n",
       "          [ 0.1320],\n",
       "          [ 0.1199],\n",
       "          [ 0.2645],\n",
       "          [ 0.1767],\n",
       "          [ 0.3516],\n",
       "          [ 0.3840],\n",
       "          [-0.0902]])}}"
      ]
     },
     "execution_count": 23,
     "metadata": {},
     "output_type": "execute_result"
    }
   ],
   "source": [
    "outputs[1]"
   ]
  }
 ],
 "metadata": {
  "kernelspec": {
   "display_name": "Python 3",
   "language": "python",
   "name": "python3"
  },
  "language_info": {
   "codemirror_mode": {
    "name": "ipython",
    "version": 3
   },
   "file_extension": ".py",
   "mimetype": "text/x-python",
   "name": "python",
   "nbconvert_exporter": "python",
   "pygments_lexer": "ipython3",
   "version": "3.11.9"
  }
 },
 "nbformat": 4,
 "nbformat_minor": 2
}
