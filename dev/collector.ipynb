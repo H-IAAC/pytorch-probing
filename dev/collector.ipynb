{
 "cells": [
  {
   "cell_type": "code",
   "execution_count": 1,
   "metadata": {},
   "outputs": [],
   "source": [
    "from typing import Tuple, List, Dict\n",
    "\n",
    "import torch\n",
    "import numpy as np\n",
    "from numpy.testing import assert_array_almost_equal\n",
    "\n",
    "from pytorch_probing import Interceptor"
   ]
  },
  {
   "cell_type": "code",
   "execution_count": 2,
   "metadata": {},
   "outputs": [],
   "source": [
    "class ExampleModel(torch.nn.Module):\n",
    "    def __init__(self, input_size, hidden_size, output_size):\n",
    "        super().__init__()\n",
    "\n",
    "        self.linear1 = torch.nn.Linear(input_size, hidden_size)\n",
    "        self.relu = torch.nn.ReLU()\n",
    "        self.linear2 = torch.nn.Linear(hidden_size, output_size)\n",
    "\n",
    "    def forward(self, x):\n",
    "        x = self.linear1(x)\n",
    "        x = self.relu(x)\n",
    "        x = self.linear2(x)\n",
    "\n",
    "        return x\n"
   ]
  },
  {
   "cell_type": "code",
   "execution_count": 5,
   "metadata": {},
   "outputs": [
    {
     "data": {
      "text/plain": [
       "ExampleModel(\n",
       "  (linear1): Linear(in_features=2, out_features=3, bias=True)\n",
       "  (relu): ReLU()\n",
       "  (linear2): Linear(in_features=3, out_features=1, bias=True)\n",
       ")"
      ]
     },
     "execution_count": 5,
     "metadata": {},
     "output_type": "execute_result"
    }
   ],
   "source": [
    "test_input_size = 2\n",
    "test_hidden_size = 3\n",
    "test_output_size = 1\n",
    "\n",
    "example_model = ExampleModel(test_input_size, test_hidden_size, test_output_size)\n",
    "example_model.eval()"
   ]
  },
  {
   "cell_type": "code",
   "execution_count": 6,
   "metadata": {},
   "outputs": [
    {
     "data": {
      "text/plain": [
       "tensor([[-0.3138],\n",
       "        [-0.3138],\n",
       "        [-0.2525],\n",
       "        [-0.3138],\n",
       "        [-0.3076],\n",
       "        [-0.1679],\n",
       "        [-0.2765],\n",
       "        [-0.2830],\n",
       "        [-0.3138],\n",
       "        [-0.2656]], grad_fn=<AddmmBackward0>)"
      ]
     },
     "execution_count": 6,
     "metadata": {},
     "output_type": "execute_result"
    }
   ],
   "source": [
    "inputs = torch.randn([10, 2])\n",
    "example_model(inputs)"
   ]
  },
  {
   "cell_type": "code",
   "execution_count": 12,
   "metadata": {},
   "outputs": [],
   "source": [
    "from torch.utils.data import Dataset, DataLoader\n",
    "\n",
    "class ExampleDataset(Dataset):\n",
    "    def __init__(self, x_size, y_size, len) -> None:\n",
    "        super().__init__()\n",
    "\n",
    "        self._x_size = x_size\n",
    "        self._y_size = y_size\n",
    "        self._len = len\n",
    "\n",
    "    def __len__(self) -> int:\n",
    "        return self._len\n",
    "    \n",
    "    def __getitem__(self, idx:int):\n",
    "        return torch.empty(self._x_size).fill_(idx), torch.empty(self._y_size).fill_(idx)"
   ]
  },
  {
   "cell_type": "code",
   "execution_count": 13,
   "metadata": {},
   "outputs": [],
   "source": [
    "dataset = ExampleDataset(test_input_size, test_output_size, 32)"
   ]
  },
  {
   "cell_type": "code",
   "execution_count": 14,
   "metadata": {},
   "outputs": [],
   "source": [
    "dataloader = DataLoader(dataset, 4, shuffle=False)"
   ]
  },
  {
   "cell_type": "code",
   "execution_count": 51,
   "metadata": {},
   "outputs": [],
   "source": [
    "from typing import List, Tuple\n",
    "import os\n",
    "import datetime\n",
    "\n",
    "import numpy as np\n",
    "\n",
    "def collect(module:torch.nn.Module, paths:List[str], dataloader:DataLoader, \n",
    "            save_path:str|None = None, dataset_name:str|None = None,\n",
    "            device:str|None=None, \n",
    "            save_target:bool=False, save_prediction:bool=False):\n",
    "    \n",
    "    original_mode = module.training\n",
    "    module.eval()\n",
    "\n",
    "    if save_path is None:\n",
    "        save_path = \".\"\n",
    "    \n",
    "    if dataset_name is None:\n",
    "        dataset_name = datetime.datetime.now().strftime(\"%Y-%m-%d-%H-%M-%S-%f\")\n",
    "\n",
    "    dataset_path = os.path.join(save_path, dataset_name)\n",
    "\n",
    "    if not os.path.exists(dataset_path):\n",
    "        os.makedirs(dataset_path)\n",
    "    \n",
    "\n",
    "\n",
    "    if device is None:\n",
    "        device = next(module.parameters()).device\n",
    "    else:\n",
    "        device = torch.device(device)\n",
    "        module = module.to(device)\n",
    "\n",
    "    with Interceptor(module, paths) as interceptor:\n",
    "        with torch.no_grad():\n",
    "            for chunk_index, (x, y) in enumerate(dataloader):\n",
    "                x_device = x.to(device)\n",
    "\n",
    "                pred : torch.Tensor | Tuple[torch.Tensor] = interceptor(x_device)\n",
    "\n",
    "                intercepted_outputs = interceptor.outputs\n",
    "                for name in intercepted_outputs:\n",
    "                    if isinstance(intercepted_outputs[name], list):\n",
    "                        for i in range(len(intercepted_outputs[name])):\n",
    "                            intercepted_outputs[name][i] = intercepted_outputs[name][i].cpu()\n",
    "                    else:\n",
    "                        intercepted_outputs[name] = intercepted_outputs[name].cpu()  \n",
    "                \n",
    "                chunk = {\"inputs\":x, \"intercepted_outputs\":intercepted_outputs, \"index\":chunk_index}\n",
    "\n",
    "                if save_target:\n",
    "                    chunk[\"target\"] = y\n",
    "                if save_prediction:\n",
    "\n",
    "                    pred_cpu = None\n",
    "                    if isinstance(pred, tuple):\n",
    "                        pred_cpu = []\n",
    "                        for pred_item in pred:\n",
    "                            pred_cpu.append(pred_item.cpu())\n",
    "                    else:\n",
    "                        pred_cpu = pred.cpu()\n",
    "\n",
    "                    chunk[\"prediction\"] = pred_cpu                        \n",
    "                \n",
    "                chunk_path = os.path.join(dataset_path, str(chunk_index))\n",
    "\n",
    "                np.savez(chunk_path, **chunk)\n",
    "\n",
    "    module.train(original_mode)\n"
   ]
  },
  {
   "cell_type": "code",
   "execution_count": 52,
   "metadata": {},
   "outputs": [],
   "source": [
    "paths = [\"linear1\"]\n",
    "\n",
    "collect(example_model, paths, dataloader)"
   ]
  },
  {
   "cell_type": "code",
   "execution_count": 67,
   "metadata": {},
   "outputs": [],
   "source": [
    "chunk0 = np.load(\"2024-08-14-17-24-21-740127\\\\0.npz\", allow_pickle=True)"
   ]
  },
  {
   "cell_type": "code",
   "execution_count": 68,
   "metadata": {},
   "outputs": [
    {
     "data": {
      "text/plain": [
       "NpzFile '2024-08-14-17-24-21-740127\\\\0.npz' with keys: inputs, intercepted_outputs, index"
      ]
     },
     "execution_count": 68,
     "metadata": {},
     "output_type": "execute_result"
    }
   ],
   "source": [
    "chunk0"
   ]
  },
  {
   "cell_type": "code",
   "execution_count": 69,
   "metadata": {},
   "outputs": [
    {
     "data": {
      "text/plain": [
       "array([[0., 0.],\n",
       "       [1., 1.],\n",
       "       [2., 2.],\n",
       "       [3., 3.]], dtype=float32)"
      ]
     },
     "execution_count": 69,
     "metadata": {},
     "output_type": "execute_result"
    }
   ],
   "source": [
    "chunk0[\"inputs\"]"
   ]
  },
  {
   "cell_type": "code",
   "execution_count": 70,
   "metadata": {},
   "outputs": [
    {
     "data": {
      "text/plain": [
       "array({'linear1': tensor([[-0.4829, -0.1482, -0.0104],\n",
       "        [-1.3781, -0.6280,  0.0804],\n",
       "        [-2.2733, -1.1077,  0.1712],\n",
       "        [-3.1684, -1.5875,  0.2620]])}, dtype=object)"
      ]
     },
     "execution_count": 70,
     "metadata": {},
     "output_type": "execute_result"
    }
   ],
   "source": [
    "chunk0[\"intercepted_outputs\"]"
   ]
  },
  {
   "cell_type": "code",
   "execution_count": 71,
   "metadata": {},
   "outputs": [
    {
     "data": {
      "text/plain": [
       "array(0)"
      ]
     },
     "execution_count": 71,
     "metadata": {},
     "output_type": "execute_result"
    }
   ],
   "source": [
    "chunk0[\"index\"]"
   ]
  },
  {
   "cell_type": "code",
   "execution_count": null,
   "metadata": {},
   "outputs": [],
   "source": [
    "chunk0[\"index\"]"
   ]
  }
 ],
 "metadata": {
  "kernelspec": {
   "display_name": "Python 3",
   "language": "python",
   "name": "python3"
  },
  "language_info": {
   "codemirror_mode": {
    "name": "ipython",
    "version": 3
   },
   "file_extension": ".py",
   "mimetype": "text/x-python",
   "name": "python",
   "nbconvert_exporter": "python",
   "pygments_lexer": "ipython3",
   "version": "3.11.9"
  }
 },
 "nbformat": 4,
 "nbformat_minor": 2
}
